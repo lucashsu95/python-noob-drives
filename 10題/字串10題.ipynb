{
 "cells": [
  {
   "cell_type": "code",
   "execution_count": null,
   "metadata": {},
   "outputs": [],
   "source": [
    "# Q0\n",
    "import sys\n",
    "for line in sys.stdin.read().splitlines():\n",
    "    a,b = line.split()\n",
    "    if a == 0 or b == 0:\n",
    "        print(False)\n",
    "    elif (a+b) % 2 == 1:\n",
    "        print(True)\n",
    "    else:\n",
    "        print(False)"
   ]
  },
  {
   "cell_type": "code",
   "execution_count": null,
   "metadata": {},
   "outputs": [],
   "source": [
    "# Q1\n",
    "import sys\n",
    "for line in sys.stdin.read().splitlines():\n",
    "    if len(line) == 5 and line.isdigit():\n",
    "        print('正確')\n",
    "    else:\n",
    "        print('不正確')\n",
    "# import sys ; [print('正確' if len(line) == 5 and line.isdigit() else '不正確') for line in sys.stdin.read().splitlines()]"
   ]
  },
  {
   "cell_type": "code",
   "execution_count": null,
   "metadata": {},
   "outputs": [],
   "source": [
    "# Q2\n",
    "import sys\n",
    "for line in sys.stdin.read().splitlines():\n",
    "    if len(line) >= 2 and line[0] == line[-1]:\n",
    "        print('正確')\n",
    "    else:\n",
    "        print('不正確')"
   ]
  },
  {
   "cell_type": "code",
   "execution_count": null,
   "metadata": {},
   "outputs": [],
   "source": [
    "# Q3\n",
    "import sys\n",
    "for line in sys.stdin.read().splitlines():\n",
    "    n = len(line)\n",
    "    if n >= 3 and n % 2 == 1 and line[0] == line[n // 2] == line[-1]:\n",
    "        print('正確')\n",
    "    else:\n",
    "        print('不正確')"
   ]
  },
  {
   "cell_type": "code",
   "execution_count": null,
   "metadata": {},
   "outputs": [],
   "source": [
    "# Q4\n",
    "import sys\n",
    "for line in sys.stdin.read().splitlines():\n",
    "    if len(line) >= 5 and line[-1] != '.' and line.count('.') <= 1 and line.replace('.','').isdigit():\n",
    "        print('正確')\n",
    "    else:\n",
    "        print('不正確')"
   ]
  },
  {
   "cell_type": "code",
   "execution_count": null,
   "metadata": {},
   "outputs": [],
   "source": [
    "# Q4 V2\n",
    "import sys\n",
    "for line in sys.stdin.read().splitlines():\n",
    "    Lresult = \"F\"\n",
    "    if len(line) == 5 and line.replace(\".\", \"\").isdigit():\n",
    "        if line.count(\".\") == 0:\n",
    "            Lresult = \"T\"\n",
    "        if line.count(\".\") == 1 and line[-1] != \".\":\n",
    "            Lresult = \"T\"\n",
    "    print(Lresult)"
   ]
  },
  {
   "cell_type": "code",
   "execution_count": null,
   "metadata": {},
   "outputs": [],
   "source": [
    "# Q5\n",
    "import sys\n",
    "for line in sys.stdin.read().splitlines():\n",
    "    if len(line) >= 5 and line[-1] != '.' and line.count('.') <= 1 and line.replace('.','').isdigit():\n",
    "        print('正確')\n",
    "    else:\n",
    "        print('不正確')"
   ]
  },
  {
   "cell_type": "code",
   "execution_count": null,
   "metadata": {},
   "outputs": [],
   "source": [
    "# Q5 V2\n",
    "import sys\n",
    "\n",
    "for line in sys.stdin.read().splitlines():\n",
    "\n",
    "    Lresult = \"F\"\n",
    "\n",
    "    if len(line) >= 5 and line.replace(\".\",\"\").isdigit():\n",
    "        \n",
    "        if line.count(\".\") == 0:\n",
    "            Lresult = \"T\"\n",
    "\n",
    "        if line.count(\".\") == 1 and line[-1] != \".\":\n",
    "            Lresult = \"T\"\n",
    "            \n",
    "    print(Lresult)"
   ]
  },
  {
   "cell_type": "code",
   "execution_count": null,
   "metadata": {},
   "outputs": [],
   "source": [
    "# Q6\n",
    "import sys\n",
    "for line in sys.stdin.read().splitlines():\n",
    "    result = False\n",
    "    if len(line) == 5 :\n",
    "        result = True\n",
    "        for i in range(1,len(line)):\n",
    "            if line[i-1] >= line[i]:\n",
    "                result = False\n",
    "    print(result)"
   ]
  },
  {
   "cell_type": "code",
   "execution_count": null,
   "metadata": {},
   "outputs": [],
   "source": [
    "# Q7\n",
    "import sys\n",
    "for line in sys.stdin.read().splitlines():\n",
    "    result = False\n",
    "    n = len(line)\n",
    "    if n >= 2:\n",
    "        result = all(line[i - 1] <= line[i] for i in range(1,n))\n",
    "    print('正確' if result else '不正確')"
   ]
  },
  {
   "cell_type": "code",
   "execution_count": null,
   "metadata": {},
   "outputs": [],
   "source": [
    "# Q7 V2\n",
    "import sys\n",
    "for line in sys.stdin.read().splitlines():\n",
    "    Lresult = \"F\"\n",
    "    if len(line) > 1 :\n",
    "        Lresult = \"T\"\n",
    "        for i in range(1,len(line)):\n",
    "            if line[i-1] > line[i]:\n",
    "                Lresult = \"F\"\n",
    "    print(Lresult)"
   ]
  },
  {
   "cell_type": "code",
   "execution_count": null,
   "metadata": {},
   "outputs": [],
   "source": [
    "# Q8\n",
    "import sys\n",
    "\n",
    "for line in sys.stdin.read().splitlines():\n",
    "    result = False\n",
    "    if len(line) > 1 :\n",
    "        result = True\n",
    "        switch = \"a\"\n",
    "        \n",
    "        for i in range(1,len(line)):\n",
    "            if switch == \"a\":\n",
    "                if line[i-1] > line[i]:\n",
    "                    switch = \"d\"\n",
    "            else:\n",
    "                if line[i-1] < line[i]:\n",
    "                    result = False\n",
    "\n",
    "    print('正確' if result else '不正確')"
   ]
  },
  {
   "cell_type": "code",
   "execution_count": null,
   "metadata": {},
   "outputs": [],
   "source": [
    "# Q8 V2\n",
    "import sys\n",
    "for Lstr in sys.stdin.read().splitlines():\n",
    "    Lresult = \"F\"\n",
    "    if len(Lstr) > 1 :\n",
    "        Lresult = \"T\"\n",
    "        Lswitch = \"a\"\n",
    "        for i in range(1,len(Lstr)):\n",
    "\n",
    "            if Lswitch == \"a\":\n",
    "                if Lstr[i-1] > Lstr[i]:\n",
    "                    Lswitch = \"d\"\n",
    "            else:\n",
    "                if Lstr[i-1] < Lstr[i]:\n",
    "                    Lresult = \"F\"\n",
    "    print(Lresult)"
   ]
  },
  {
   "cell_type": "code",
   "execution_count": null,
   "metadata": {},
   "outputs": [],
   "source": [
    "# Q9\n",
    "import sys\n",
    "for n in sys.stdin.read().splitlines():\n",
    "    n = n.strip()\n",
    "    result = False\n",
    "    B = n.replace('(','').replace(')','')\n",
    "    # 字串內容至少有6碼 and 其內容只有數字及小括號 and 其中包括至少一組小括號 and 字串中的左括號及右括號個數相同\n",
    "    if len(n) >= 6 and (B.isdigit() or B == '') and n.count('(') > 0 and n.count('(') == n.count(')'):\n",
    "        cnt = 0\n",
    "        result = True\n",
    "        for i in n:\n",
    "            if i == '(':\n",
    "                cnt += 1\n",
    "            elif i == ')':\n",
    "                cnt -= 1\n",
    "            if cnt < 0:\n",
    "                result = False\n",
    "    print('正確' if result else '不正確')"
   ]
  },
  {
   "cell_type": "code",
   "execution_count": null,
   "metadata": {},
   "outputs": [],
   "source": [
    "# Q10\n",
    "import sys\n",
    "for n in sys.stdin.read().splitlines():\n",
    "    result = False\n",
    "    B = n.replace('+','').replace('-','').replace('*','').replace('/','').replace('//','')\n",
    "    if len(n) >= 3 and B.isdigit():\n",
    "        result = True\n",
    "        flag = 'oper'\n",
    "        for i in n:\n",
    "            if i.isdigit():\n",
    "                flag = 'num'\n",
    "            elif flag == 'num':\n",
    "                flag = 'oper'\n",
    "            else:\n",
    "                result = False\n",
    "    print('正確' if result else '不正確')"
   ]
  },
  {
   "cell_type": "code",
   "execution_count": null,
   "metadata": {},
   "outputs": [],
   "source": [
    "# Q10 V2\n",
    "import sys\n",
    "for n in sys.stdin.read().splitlines():\n",
    "    result = False\n",
    "    B = n.replace(\"+\", \"\").replace(\"-\", \"\").replace(\"*\", \"\").replace(\"/\", \"\").replace(\"//\", \"\")\n",
    "    if len(n) >= 3 and (B.isdigit()) and n[0].isdigit() and n[-1].isdigit() :\n",
    "        result = True\n",
    "        for i in range(1,len(n)):\n",
    "            oper =\"+-*/\"\n",
    "            M = oper.find(n[i-1])\n",
    "            N = oper.find(n[i])\n",
    "            if (M >= 0 and N>=0):\n",
    "                result = False\n",
    "    print('正確' if result else '不正確')"
   ]
  }
 ],
 "metadata": {
  "kernelspec": {
   "display_name": "Python 3",
   "language": "python",
   "name": "python3"
  },
  "language_info": {
   "codemirror_mode": {
    "name": "ipython",
    "version": 3
   },
   "file_extension": ".py",
   "mimetype": "text/x-python",
   "name": "python",
   "nbconvert_exporter": "python",
   "pygments_lexer": "ipython3",
   "version": "3.10.7"
  }
 },
 "nbformat": 4,
 "nbformat_minor": 2
}
