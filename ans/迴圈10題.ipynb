{
 "cells": [
  {
   "cell_type": "code",
   "execution_count": 1,
   "metadata": {},
   "outputs": [
    {
     "name": "stdout",
     "output_type": "stream",
     "text": [
      "＊．．．．．．．．\n",
      "．＊．．．．．．．\n",
      "．．＊．．．．．．\n",
      "．．．＊．．．．．\n",
      "．．．．＊．．．．\n",
      "．．．．．＊．．．\n",
      "．．．．．．＊．．\n",
      "．．．．．．．＊．\n",
      "．．．．．．．．＊\n"
     ]
    }
   ],
   "source": [
    "# Q1\n",
    "n = 9\n",
    "for i in range(n):\n",
    "    for j in range(n):\n",
    "        print('＊' if i == j else '．' ,end='')\n",
    "    print()"
   ]
  },
  {
   "cell_type": "code",
   "execution_count": 2,
   "metadata": {},
   "outputs": [
    {
     "name": "stdout",
     "output_type": "stream",
     "text": [
      "＊＊＊＊＊＊＊＊＊\n",
      "＊．．．．．．．＊\n",
      "＊．．．．．．．＊\n",
      "＊．．．．．．．＊\n",
      "＊．．．．．．．＊\n",
      "＊．．．．．．．＊\n",
      "＊．．．．．．．＊\n",
      "＊．．．．．．．＊\n",
      "＊＊＊＊＊＊＊＊＊\n"
     ]
    }
   ],
   "source": [
    "# Q2\n",
    "n = 9\n",
    "for i in range(n):\n",
    "    for j in range(n):\n",
    "        print('＊' if i == 0 or j == 0 or i == n - 1 or j == n - 1 else '．' ,end='')\n",
    "    print()"
   ]
  },
  {
   "cell_type": "code",
   "execution_count": 3,
   "metadata": {},
   "outputs": [
    {
     "name": "stdout",
     "output_type": "stream",
     "text": [
      "．．．．＊．．．．\n",
      "．．．．＊．．．．\n",
      "．．．．＊．．．．\n",
      "．．．．＊．．．．\n",
      "＊＊＊＊＊＊＊＊＊\n",
      "．．．．＊．．．．\n",
      "．．．．＊．．．．\n",
      "．．．．＊．．．．\n",
      "．．．．＊．．．．\n"
     ]
    }
   ],
   "source": [
    "# Q3\n",
    "n = 9\n",
    "half = n // 2\n",
    "for i in range(n):\n",
    "    for j in range(n):\n",
    "        print('＊' if i == half or j == half else '．' ,end='')\n",
    "    print()"
   ]
  },
  {
   "cell_type": "code",
   "execution_count": 4,
   "metadata": {},
   "outputs": [
    {
     "name": "stdout",
     "output_type": "stream",
     "text": [
      "＊＊＊＊＊＊＊＊＊\n",
      "＊＊＊＊＊＊＊＊＊\n",
      "＊＊＊＊＊＊＊＊＊\n",
      "＊＊＊＊＊＊＊＊＊\n",
      "＊＊＊＊＊＊＊＊＊\n",
      "．．．．．．．．．\n",
      "．．．．．．．．．\n",
      "．．．．．．．．．\n",
      "．．．．．．．．．\n"
     ]
    }
   ],
   "source": [
    "# Q4\n",
    "n = 9\n",
    "half = n // 2\n",
    "for i in range(n):\n",
    "    for j in range(n):\n",
    "        print('＊' if i <= half else '．' ,end='')\n",
    "    print()"
   ]
  },
  {
   "cell_type": "code",
   "execution_count": 5,
   "metadata": {},
   "outputs": [
    {
     "name": "stdout",
     "output_type": "stream",
     "text": [
      "＊＊＊＊＊．．．．\n",
      "＊＊＊＊＊．．．．\n",
      "＊＊＊＊＊．．．．\n",
      "＊＊＊＊＊．．．．\n",
      "＊＊＊＊＊．．．．\n",
      "．．．．．．．．．\n",
      "．．．．．．．．．\n",
      "．．．．．．．．．\n",
      "．．．．．．．．．\n"
     ]
    }
   ],
   "source": [
    "# Q5\n",
    "n = 9\n",
    "half = n // 2\n",
    "for i in range(n):\n",
    "    for j in range(n):\n",
    "        print('＊' if i <= half and j <= half else '．' ,end='')\n",
    "    print()"
   ]
  },
  {
   "cell_type": "code",
   "execution_count": 6,
   "metadata": {},
   "outputs": [
    {
     "name": "stdout",
     "output_type": "stream",
     "text": [
      "．．．．．．．．＊\n",
      "．．．．．．．＊．\n",
      "．．．．．．＊．．\n",
      "．．．．．＊．．．\n",
      "．．．．＊．．．．\n",
      "．．．＊．．．．．\n",
      "．．＊．．．．．．\n",
      "．＊．．．．．．．\n",
      "＊．．．．．．．．\n"
     ]
    }
   ],
   "source": [
    "# Q6\n",
    "n = 9\n",
    "for i in range(n-1,-1,-1):\n",
    "    for j in range(n):\n",
    "        print('＊' if i == j else '．' ,end='')\n",
    "    print()"
   ]
  },
  {
   "cell_type": "code",
   "execution_count": 7,
   "metadata": {},
   "outputs": [
    {
     "name": "stdout",
     "output_type": "stream",
     "text": [
      "＊．＊．＊．＊．＊\n",
      "．＊．＊．＊．＊．\n",
      "＊．＊．＊．＊．＊\n",
      "．＊．＊．＊．＊．\n",
      "＊．＊．＊．＊．＊\n",
      "．＊．＊．＊．＊．\n",
      "＊．＊．＊．＊．＊\n",
      "．＊．＊．＊．＊．\n",
      "＊．＊．＊．＊．＊\n"
     ]
    }
   ],
   "source": [
    "# Q7\n",
    "n = 9\n",
    "flag = 1\n",
    "for i in range(n):\n",
    "    for j in range(n):\n",
    "        print('＊' if flag else '．' ,end='')\n",
    "        flag = 0 if flag else 1\n",
    "    print()"
   ]
  },
  {
   "cell_type": "code",
   "execution_count": 8,
   "metadata": {},
   "outputs": [
    {
     "name": "stdout",
     "output_type": "stream",
     "text": [
      "＊．．．＊．．．＊\n",
      "．．．＊．．．＊．\n",
      "．．＊．．．＊．．\n",
      "．＊．．．＊．．．\n",
      "＊．．．＊．．．＊\n",
      "．．．＊．．．＊．\n",
      "．．＊．．．＊．．\n",
      "．＊．．．＊．．．\n",
      "＊．．．＊．．．＊\n"
     ]
    }
   ],
   "source": [
    "# Q8\n",
    "n = 9\n",
    "half = n // 2\n",
    "for i in range(n):\n",
    "    for j in range(n):\n",
    "        ii = n - i - 1\n",
    "        # 中間\n",
    "        center = ii == j\n",
    "        # 中上\n",
    "        sm_top = j == half - i\n",
    "        # 中下\n",
    "        sm_bottom = j == n - 1 - (i - half)\n",
    "        # 上下兩點\n",
    "        dot = i == j == 0 or i == j == n - 1\n",
    "        print('＊' if center or sm_top or sm_bottom or dot else '．' ,end='')\n",
    "    print()"
   ]
  },
  {
   "cell_type": "code",
   "execution_count": 9,
   "metadata": {},
   "outputs": [
    {
     "name": "stdout",
     "output_type": "stream",
     "text": [
      "．＊＊＊．＊＊＊．\n",
      "＊＊＊．＊＊＊．＊\n",
      "＊＊．＊＊＊．＊＊\n",
      "＊．＊＊＊．＊＊＊\n",
      "．＊＊＊．＊＊＊．\n",
      "＊＊＊．＊＊＊．＊\n",
      "＊＊．＊＊＊．＊＊\n",
      "＊．＊＊＊．＊＊＊\n",
      "．＊＊＊．＊＊＊．\n"
     ]
    }
   ],
   "source": [
    "# Q9\n",
    "n = 9\n",
    "half = n // 2\n",
    "for i in range(n):\n",
    "    for j in range(n):\n",
    "        ii = n - i - 1\n",
    "        # 中上\n",
    "        sm_top = j == half - i\n",
    "        # 中下\n",
    "        sm_bottom = i >= half and j == n - 1 - (i - half)\n",
    "        # 點\n",
    "        dot = i == j == 0 or i == j == n - 1\n",
    "        print('．' if ii == j or sm_top or sm_bottom or dot else '＊' ,end='')\n",
    "    print()"
   ]
  },
  {
   "cell_type": "code",
   "execution_count": 10,
   "metadata": {},
   "outputs": [
    {
     "name": "stdout",
     "output_type": "stream",
     "text": [
      "＊＊＊＊＊＊＊＊＊＊＊＊＊＊＊＊＊＊＊\n",
      "．＊＊＊＊＊＊＊＊＊＊＊＊＊＊＊＊＊＊\n",
      "．．＊＊＊＊＊＊＊＊＊＊＊＊＊＊＊＊＊\n",
      "．．．＊＊＊＊＊＊＊＊＊＊＊＊＊＊＊＊\n",
      "．．．．＊＊＊＊＊＊＊＊＊＊＊＊＊＊＊\n",
      "．．．．．＊＊＊＊＊＊＊＊＊＊＊＊＊＊\n",
      "．．．．．．＊＊＊＊＊＊＊＊＊＊＊＊＊\n",
      "．．．．．．．＊＊＊＊＊＊＊＊＊＊＊＊\n",
      "．．．．．．．．＊＊＊＊＊＊＊＊＊＊＊\n",
      "．．．．．．．．．＊＊＊＊＊＊＊＊＊＊\n",
      "．．．．．．．．．．＊＊＊＊＊＊＊＊＊\n",
      "．．．．．．．．．．．＊＊＊＊＊＊＊＊\n",
      "．．．．．．．．．．．．＊＊＊＊＊＊＊\n",
      "．．．．．．．．．．．．．＊＊＊＊＊＊\n",
      "．．．．．．．．．．．．．．＊＊＊＊＊\n",
      "．．．．．．．．．．．．．．．＊＊＊＊\n",
      "．．．．．．．．．．．．．．．．＊＊＊\n",
      "．．．．．．．．．．．．．．．．．＊＊\n",
      "．．．．．．．．．．．．．．．．．．＊\n"
     ]
    }
   ],
   "source": [
    "# Q10\n",
    "n = 19\n",
    "for i in range(n):\n",
    "    for j in range(n):\n",
    "        print('＊' if j >= i else '．' ,end='')\n",
    "    print()"
   ]
  }
 ],
 "metadata": {
  "kernelspec": {
   "display_name": "Python 3",
   "language": "python",
   "name": "python3"
  },
  "language_info": {
   "codemirror_mode": {
    "name": "ipython",
    "version": 3
   },
   "file_extension": ".py",
   "mimetype": "text/x-python",
   "name": "python",
   "nbconvert_exporter": "python",
   "pygments_lexer": "ipython3",
   "version": "3.10.7"
  }
 },
 "nbformat": 4,
 "nbformat_minor": 2
}
