{
    "cells": [
        {
            "cell_type": "code",
            "execution_count": 11,
            "metadata": {},
            "outputs": [
                {
                    "name": "stdout",
                    "output_type": "stream",
                    "text": [
                        "＊．．．．．．．．\n",
                        "．＊．．．．．．．\n",
                        "．．＊．．．．．．\n",
                        "．．．＊．．．．．\n",
                        "．．．．＊．．．．\n",
                        "．．．．．＊．．．\n",
                        "．．．．．．＊．．\n",
                        "．．．．．．．＊．\n",
                        "．．．．．．．．＊\n"
                    ]
                }
            ],
            "source": [
                "# Q1\n",
                "n = 9\n",
                "for i in range(n):\n",
                "    for j in range(n):\n",
                "        print('＊' if i == j else '．' ,end='')\n",
                "    print()"
            ]
        },
        {
            "cell_type": "code",
            "execution_count": 12,
            "metadata": {},
            "outputs": [
                {
                    "name": "stdout",
                    "output_type": "stream",
                    "text": [
                        "＊＊＊＊＊＊＊＊＊\n",
                        "＊．．．．．．．＊\n",
                        "＊．．．．．．．＊\n",
                        "＊．．．．．．．＊\n",
                        "＊．．．．．．．＊\n",
                        "＊．．．．．．．＊\n",
                        "＊．．．．．．．＊\n",
                        "＊．．．．．．．＊\n",
                        "＊＊＊＊＊＊＊＊＊\n"
                    ]
                }
            ],
            "source": [
                "# Q2\n",
                "n = 9\n",
                "for i in range(n):\n",
                "    for j in range(n):\n",
                "        print('＊' if i == 0 or j == 0 or i == n - 1 or j == n - 1 else '．' ,end='')\n",
                "    print()"
            ]
        },
        {
            "cell_type": "code",
            "execution_count": 13,
            "metadata": {},
            "outputs": [
                {
                    "name": "stdout",
                    "output_type": "stream",
                    "text": [
                        "．．．．＊．．．．\n",
                        "．．．．＊．．．．\n",
                        "．．．．＊．．．．\n",
                        "．．．．＊．．．．\n",
                        "＊＊＊＊＊＊＊＊＊\n",
                        "．．．．＊．．．．\n",
                        "．．．．＊．．．．\n",
                        "．．．．＊．．．．\n",
                        "．．．．＊．．．．\n"
                    ]
                }
            ],
            "source": [
                "# Q3\n",
                "n = 9\n",
                "half = n // 2\n",
                "for i in range(n):\n",
                "    for j in range(n):\n",
                "        print('＊' if i == half or j == half else '．' ,end='')\n",
                "    print()"
            ]
        },
        {
            "cell_type": "code",
            "execution_count": 14,
            "metadata": {},
            "outputs": [
                {
                    "name": "stdout",
                    "output_type": "stream",
                    "text": [
                        "＊＊＊＊＊＊＊＊＊\n",
                        "＊＊＊＊＊＊＊＊＊\n",
                        "＊＊＊＊＊＊＊＊＊\n",
                        "＊＊＊＊＊＊＊＊＊\n",
                        "＊＊＊＊＊＊＊＊＊\n",
                        "．．．．．．．．．\n",
                        "．．．．．．．．．\n",
                        "．．．．．．．．．\n",
                        "．．．．．．．．．\n"
                    ]
                }
            ],
            "source": [
                "# Q4\n",
                "n = 9\n",
                "half = n // 2\n",
                "for i in range(n):\n",
                "    for j in range(n):\n",
                "        print('＊' if i <= half else '．' ,end='')\n",
                "    print()"
            ]
        },
        {
            "cell_type": "code",
            "execution_count": 15,
            "metadata": {},
            "outputs": [
                {
                    "name": "stdout",
                    "output_type": "stream",
                    "text": [
                        "＊＊＊＊＊．．．．\n",
                        "＊＊＊＊＊．．．．\n",
                        "＊＊＊＊＊．．．．\n",
                        "＊＊＊＊＊．．．．\n",
                        "＊＊＊＊＊．．．．\n",
                        "．．．．．．．．．\n",
                        "．．．．．．．．．\n",
                        "．．．．．．．．．\n",
                        "．．．．．．．．．\n"
                    ]
                }
            ],
            "source": [
                "# Q5\n",
                "n = 9\n",
                "half = n // 2\n",
                "for i in range(n):\n",
                "    for j in range(n):\n",
                "        print('＊' if i <= half and j <= half else '．' ,end='')\n",
                "    print()"
            ]
        },
        {
            "cell_type": "code",
            "execution_count": 16,
            "metadata": {},
            "outputs": [
                {
                    "name": "stdout",
                    "output_type": "stream",
                    "text": [
                        "．．．．．．．．＊\n",
                        "．．．．．．．＊．\n",
                        "．．．．．．＊．．\n",
                        "．．．．．＊．．．\n",
                        "．．．．＊．．．．\n",
                        "．．．＊．．．．．\n",
                        "．．＊．．．．．．\n",
                        "．＊．．．．．．．\n",
                        "＊．．．．．．．．\n"
                    ]
                }
            ],
            "source": [
                "# Q6\n",
                "n = 9\n",
                "for i in range(n-1,-1,-1):\n",
                "    for j in range(n):\n",
                "        print('＊' if i == j else '．' ,end='')\n",
                "    print()"
            ]
        },
        {
            "cell_type": "code",
            "execution_count": 17,
            "metadata": {},
            "outputs": [
                {
                    "name": "stdout",
                    "output_type": "stream",
                    "text": [
                        "＊．＊．＊．＊．＊\n",
                        "．＊．＊．＊．＊．\n",
                        "＊．＊．＊．＊．＊\n",
                        "．＊．＊．＊．＊．\n",
                        "＊．＊．＊．＊．＊\n",
                        "．＊．＊．＊．＊．\n",
                        "＊．＊．＊．＊．＊\n",
                        "．＊．＊．＊．＊．\n",
                        "＊．＊．＊．＊．＊\n"
                    ]
                }
            ],
            "source": [
                "# Q7\n",
                "n = 9\n",
                "flag = 1\n",
                "for i in range(1,n + 1):\n",
                "    for j in range(1,n + 1):\n",
                "        print('＊' if flag else '．' ,end='')\n",
                "        flag = 0 if flag else 1\n",
                "    print()"
            ]
        },
        {
            "cell_type": "code",
            "execution_count": 3,
            "metadata": {},
            "outputs": [
                {
                    "name": "stdout",
                    "output_type": "stream",
                    "text": [
                        "＊．．．＊．．．＊\n",
                        "．．．＊．．．＊．\n",
                        "．．＊．．．＊．．\n",
                        "．＊．．．＊．．．\n",
                        "＊．．．＊．．．＊\n",
                        "．．．＊．．．＊．\n",
                        "．．＊．．．＊．．\n",
                        "．＊．．．＊．．．\n",
                        "＊．．．＊．．．＊\n"
                    ]
                }
            ],
            "source": [
                "# Q8\n",
                "a = 9\n",
                "half = a // 2\n",
                "for i in range(a):\n",
                "    for j in range(a):\n",
                "        k = a - i - 1\n",
                "        # if 中上 or 中下 or 中 or 上點 or 下點\n",
                "        center_top = half - i == j\n",
                "        center_bottom = i >= half and j == half + k\n",
                "        center = k == j\n",
                "        dot = (i == j == 0) or (i == j == a -1)\n",
                "\n",
                "        if center_top or center_bottom or center or dot:\n",
                "            print('＊',end='')\n",
                "        else:\n",
                "            print('．',end='')\n",
                "    print()"
            ]
        },
        {
            "cell_type": "code",
            "execution_count": 4,
            "metadata": {},
            "outputs": [
                {
                    "name": "stdout",
                    "output_type": "stream",
                    "text": [
                        "．＊＊＊．＊＊＊．\n",
                        "＊＊＊．＊＊＊．＊\n",
                        "＊＊．＊＊＊．＊＊\n",
                        "＊．＊＊＊．＊＊＊\n",
                        "．＊＊＊．＊＊＊．\n",
                        "＊＊＊．＊＊＊．＊\n",
                        "＊＊．＊＊＊．＊＊\n",
                        "＊．＊＊＊．＊＊＊\n",
                        "．＊＊＊．＊＊＊．\n"
                    ]
                }
            ],
            "source": [
                "# Q9\n",
                "a = 9\n",
                "half = a // 2\n",
                "for i in range(a):\n",
                "    for j in range(a):\n",
                "        k = a - i - 1\n",
                "        # if 中上 or 中下 or 中 or 上點 or 下點\n",
                "        center_top = half - i == j\n",
                "        center_bottom = i >= half and j == half + k\n",
                "        center = k == j\n",
                "        dot = (i == j == 0) or (i == j == a -1)\n",
                "\n",
                "        if center_top or center_bottom or center or dot:\n",
                "            print('．',end='')\n",
                "        else:\n",
                "            print('＊',end='')\n",
                "    print()"
            ]
        },
        {
            "cell_type": "code",
            "execution_count": 6,
            "metadata": {},
            "outputs": [
                {
                    "name": "stdout",
                    "output_type": "stream",
                    "text": [
                        "＊＊＊＊＊＊＊＊＊\n",
                        "。＊＊＊＊＊＊＊＊\n",
                        "。。＊＊＊＊＊＊＊\n",
                        "。。。＊＊＊＊＊＊\n",
                        "。。。。＊＊＊＊＊\n",
                        "。。。。。＊＊＊＊\n",
                        "。。。。。。＊＊＊\n",
                        "。。。。。。。＊＊\n",
                        "。。。。。。。。＊\n"
                    ]
                }
            ],
            "source": [
                "# Q10\n",
                "a = 9\n",
                "for i in range(a):\n",
                "    for j in range(a):\n",
                "        print('＊' if j >= i else '．' ,end='')\n",
                "    print()\n"
            ]
        }
    ],
    "metadata": {
        "kernelspec": {
            "display_name": "Python 3",
            "language": "python",
            "name": "python3"
        },
        "language_info": {
            "codemirror_mode": {
                "name": "ipython",
                "version": 3
            },
            "file_extension": ".py",
            "mimetype": "text/x-python",
            "name": "python",
            "nbconvert_exporter": "python",
            "pygments_lexer": "ipython3",
            "version": "3.11.0"
        }
    },
    "nbformat": 4,
    "nbformat_minor": 2
}
