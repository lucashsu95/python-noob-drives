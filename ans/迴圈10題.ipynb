{
    "cells": [
        {
            "cell_type": "code",
            "execution_count": 11,
            "metadata": {},
            "outputs": [
                {
                    "name": "stdout",
                    "output_type": "stream",
                    "text": [
                        "＊．．．．．．．．\n",
                        "．＊．．．．．．．\n",
                        "．．＊．．．．．．\n",
                        "．．．＊．．．．．\n",
                        "．．．．＊．．．．\n",
                        "．．．．．＊．．．\n",
                        "．．．．．．＊．．\n",
                        "．．．．．．．＊．\n",
                        "．．．．．．．．＊\n"
                    ]
                }
            ],
            "source": [
                "# Q1\n",
                "n = 9\n",
                "for i in range(n):\n",
                "    for j in range(n):\n",
                "        print('＊' if i == j else '．' ,end='')\n",
                "    print()"
            ]
        },
        {
            "cell_type": "code",
            "execution_count": 12,
            "metadata": {},
            "outputs": [
                {
                    "name": "stdout",
                    "output_type": "stream",
                    "text": [
                        "＊＊＊＊＊＊＊＊＊\n",
                        "＊．．．．．．．＊\n",
                        "＊．．．．．．．＊\n",
                        "＊．．．．．．．＊\n",
                        "＊．．．．．．．＊\n",
                        "＊．．．．．．．＊\n",
                        "＊．．．．．．．＊\n",
                        "＊．．．．．．．＊\n",
                        "＊＊＊＊＊＊＊＊＊\n"
                    ]
                }
            ],
            "source": [
                "# Q2\n",
                "n = 9\n",
                "for i in range(n):\n",
                "    for j in range(n):\n",
                "        print('＊' if i == 0 or j == 0 or i == n - 1 or j == n - 1 else '．' ,end='')\n",
                "    print()"
            ]
        },
        {
            "cell_type": "code",
            "execution_count": 13,
            "metadata": {},
            "outputs": [
                {
                    "name": "stdout",
                    "output_type": "stream",
                    "text": [
                        "．．．．＊．．．．\n",
                        "．．．．＊．．．．\n",
                        "．．．．＊．．．．\n",
                        "．．．．＊．．．．\n",
                        "＊＊＊＊＊＊＊＊＊\n",
                        "．．．．＊．．．．\n",
                        "．．．．＊．．．．\n",
                        "．．．．＊．．．．\n",
                        "．．．．＊．．．．\n"
                    ]
                }
            ],
            "source": [
                "# Q3\n",
                "n = 9\n",
                "half = n // 2\n",
                "for i in range(n):\n",
                "    for j in range(n):\n",
                "        print('＊' if i == half or j == half else '．' ,end='')\n",
                "    print()"
            ]
        },
        {
            "cell_type": "code",
            "execution_count": 14,
            "metadata": {},
            "outputs": [
                {
                    "name": "stdout",
                    "output_type": "stream",
                    "text": [
                        "＊＊＊＊＊＊＊＊＊\n",
                        "＊＊＊＊＊＊＊＊＊\n",
                        "＊＊＊＊＊＊＊＊＊\n",
                        "＊＊＊＊＊＊＊＊＊\n",
                        "＊＊＊＊＊＊＊＊＊\n",
                        "．．．．．．．．．\n",
                        "．．．．．．．．．\n",
                        "．．．．．．．．．\n",
                        "．．．．．．．．．\n"
                    ]
                }
            ],
            "source": [
                "# Q4\n",
                "n = 9\n",
                "half = n // 2\n",
                "for i in range(n):\n",
                "    for j in range(n):\n",
                "        print('＊' if i <= half else '．' ,end='')\n",
                "    print()"
            ]
        },
        {
            "cell_type": "code",
            "execution_count": 15,
            "metadata": {},
            "outputs": [
                {
                    "name": "stdout",
                    "output_type": "stream",
                    "text": [
                        "＊＊＊＊＊．．．．\n",
                        "＊＊＊＊＊．．．．\n",
                        "＊＊＊＊＊．．．．\n",
                        "＊＊＊＊＊．．．．\n",
                        "＊＊＊＊＊．．．．\n",
                        "．．．．．．．．．\n",
                        "．．．．．．．．．\n",
                        "．．．．．．．．．\n",
                        "．．．．．．．．．\n"
                    ]
                }
            ],
            "source": [
                "# Q5\n",
                "n = 9\n",
                "half = n // 2\n",
                "for i in range(n):\n",
                "    for j in range(n):\n",
                "        print('＊' if i <= half and j <= half else '．' ,end='')\n",
                "    print()"
            ]
        },
        {
            "cell_type": "code",
            "execution_count": 16,
            "metadata": {},
            "outputs": [
                {
                    "name": "stdout",
                    "output_type": "stream",
                    "text": [
                        "．．．．．．．．＊\n",
                        "．．．．．．．＊．\n",
                        "．．．．．．＊．．\n",
                        "．．．．．＊．．．\n",
                        "．．．．＊．．．．\n",
                        "．．．＊．．．．．\n",
                        "．．＊．．．．．．\n",
                        "．＊．．．．．．．\n",
                        "＊．．．．．．．．\n"
                    ]
                }
            ],
            "source": [
                "# Q6\n",
                "n = 9\n",
                "for i in range(n-1,-1,-1):\n",
                "    for j in range(n):\n",
                "        print('＊' if i == j else '．' ,end='')\n",
                "    print()"
            ]
        },
        {
            "cell_type": "code",
            "execution_count": 17,
            "metadata": {},
            "outputs": [
                {
                    "name": "stdout",
                    "output_type": "stream",
                    "text": [
                        "＊．＊．＊．＊．＊\n",
                        "．＊．＊．＊．＊．\n",
                        "＊．＊．＊．＊．＊\n",
                        "．＊．＊．＊．＊．\n",
                        "＊．＊．＊．＊．＊\n",
                        "．＊．＊．＊．＊．\n",
                        "＊．＊．＊．＊．＊\n",
                        "．＊．＊．＊．＊．\n",
                        "＊．＊．＊．＊．＊\n"
                    ]
                }
            ],
            "source": [
                "# Q7\n",
                "n = 9\n",
                "flag = 1\n",
                "for i in range(1,n + 1):\n",
                "    for j in range(1,n + 1):\n",
                "        print('＊' if flag else '．' ,end='')\n",
                "        flag = 0 if flag else 1\n",
                "    print()"
            ]
        },
        {
            "cell_type": "code",
            "execution_count": 18,
            "metadata": {},
            "outputs": [
                {
                    "ename": "SyntaxError",
                    "evalue": "invalid syntax (2486777003.py, line 8)",
                    "output_type": "error",
                    "traceback": [
                        "\u001b[1;36m  Cell \u001b[1;32mIn[18], line 8\u001b[1;36m\u001b[0m\n\u001b[1;33m    print('＊' if  or a else '．' ,end='')\u001b[0m\n\u001b[1;37m                  ^\u001b[0m\n\u001b[1;31mSyntaxError\u001b[0m\u001b[1;31m:\u001b[0m invalid syntax\n"
                    ]
                }
            ],
            "source": [
                "# Q6\n",
                "n = 9\n",
                "for i in range(n-1,-1,-1):\n",
                "    for j in range(n):\n",
                "        one = i == j\n",
                "        dot = i == j == 0 or i == j == n - 1\n",
                "        \n",
                "        print('＊' if  or a else '．' ,end='')\n",
                "    print()"
            ]
        }
    ],
    "metadata": {
        "kernelspec": {
            "display_name": "Python 3",
            "language": "python",
            "name": "python3"
        },
        "language_info": {
            "codemirror_mode": {
                "name": "ipython",
                "version": 3
            },
            "file_extension": ".py",
            "mimetype": "text/x-python",
            "name": "python",
            "nbconvert_exporter": "python",
            "pygments_lexer": "ipython3",
            "version": "3.10.7"
        }
    },
    "nbformat": 4,
    "nbformat_minor": 2
}
