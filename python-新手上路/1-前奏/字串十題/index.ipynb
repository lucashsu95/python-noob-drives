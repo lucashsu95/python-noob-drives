{
 "cells": [
  {
   "cell_type": "markdown",
   "metadata": {},
   "source": [
    "#### 教學文章\n",
    "- [python-新手上路-學語篇｜變數｜if…else](https://hackmd.io/@lucashsu95/setp1)\n",
    "- [Python DOMjudge 教材](https://reurl.cc/94ej1x)\n",
    "---\n",
    "#### 教學影片\n",
    "- [彭彭](https://www.youtube.com/watch?v=wqRlKVRUV_k&list=PL-g0fdC5RMboYEyt6QS2iLb_1m7QcgfHk)\n",
    "- [GrandmaCan -我阿嬤都會](https://www.youtube.com/watch?v=zdMUJJKFdsU)\n",
    "---"
   ]
  },
  {
   "cell_type": "code",
   "execution_count": 1,
   "metadata": {},
   "outputs": [],
   "source": [
    "# Q1\n",
    "import sys\n",
    "for line in sys.stdin.read().splitlines():\n",
    "    print(line)"
   ]
  },
  {
   "cell_type": "code",
   "execution_count": null,
   "metadata": {},
   "outputs": [],
   "source": [
    "# Q2\n",
    "n = int(input())\n",
    "if n % 2 == 0:\n",
    "    print('是偶數')\n",
    "else:\n",
    "    print('不是')"
   ]
  },
  {
   "cell_type": "code",
   "execution_count": null,
   "metadata": {},
   "outputs": [],
   "source": [
    "# Q3\n",
    "n,m = map(int,input().split())\n",
    "if n % 2 == 0 and m % 2 == 1:\n",
    "    print(True)\n",
    "else:\n",
    "    print(False)"
   ]
  },
  {
   "cell_type": "code",
   "execution_count": null,
   "metadata": {},
   "outputs": [],
   "source": [
    "# Q4\n",
    "import sys\n",
    "\n",
    "for line in sys.stdin.read().splitlines():\n",
    "    if len(line) == 5 and line.isdigit():\n",
    "        print('T')\n",
    "    else:\n",
    "        print('F')"
   ]
  },
  {
   "cell_type": "code",
   "execution_count": null,
   "metadata": {},
   "outputs": [],
   "source": [
    "# Q5\n",
    "import sys\n",
    "\n",
    "for line in sys.stdin.read().splitlines():\n",
    "    if len(line) >= 2 and line[0] == line[-1]:\n",
    "        print('T')\n",
    "    else:\n",
    "        print('F')"
   ]
  },
  {
   "cell_type": "code",
   "execution_count": null,
   "metadata": {},
   "outputs": [],
   "source": [
    "# Q6\n",
    "import sys\n",
    "for line in sys.stdin.read().splitlines():\n",
    "    a = int(len(line)/2)\n",
    "    if len(line) >= 3 and len(line) % 2 == 1 and line[0] == line[a] and line[a] == line[-1]:\n",
    "        print('T')\n",
    "    else:\n",
    "        print('F')"
   ]
  },
  {
   "cell_type": "code",
   "execution_count": null,
   "metadata": {},
   "outputs": [],
   "source": [
    "# Q7\n",
    "import sys\n",
    "for line in sys.stdin.read().splitlines():\n",
    "    Lresult = \"F\"\n",
    "    if len(line) == 5 and line.replace(\".\", \"\").isdigit():\n",
    "        if line.count(\".\") == 0:\n",
    "            Lresult = \"T\"\n",
    "        if line.count(\".\") == 1 and line[-1] != \".\":\n",
    "            Lresult = \"T\"\n",
    "            \n",
    "    print(Lresult)"
   ]
  },
  {
   "cell_type": "code",
   "execution_count": null,
   "metadata": {},
   "outputs": [],
   "source": [
    "# Q8\n",
    "import sys\n",
    "for line in sys.stdin.read().splitlines():\n",
    "    Lresult = \"F\"\n",
    "    if len(line) >= 5 and line.replace(\".\",\"\").isdigit():\n",
    "        if line.count(\".\") == 0:\n",
    "            Lresult = \"T\"\n",
    "        if line.count(\".\") == 1 and line[-1] != \".\":\n",
    "            Lresult = \"T\"\n",
    "    print(Lresult)"
   ]
  },
  {
   "cell_type": "code",
   "execution_count": null,
   "metadata": {},
   "outputs": [],
   "source": [
    "# Q9\n",
    "import sys\n",
    "for line in sys.stdin.read().splitlines():\n",
    "    Lresult = \"F\"\n",
    "    if len(line) == 5 :\n",
    "        Lresult = \"T\"\n",
    "        for i in range(1,len(line)):\n",
    "            if line[i-1] >= line[i]:\n",
    "                Lresult = \"F\"\n",
    "    print(Lresult)"
   ]
  },
  {
   "cell_type": "code",
   "execution_count": null,
   "metadata": {},
   "outputs": [],
   "source": [
    "# Q10\n",
    "import sys\n",
    "for line in sys.stdin.read().splitlines():\n",
    "    Lresult = \"F\"\n",
    "    if len(line) > 1 :\n",
    "        Lresult = \"T\"\n",
    "        for i in range(1,len(line)):\n",
    "            if line[i-1] > line[i]:\n",
    "                Lresult = \"F\"\n",
    "    print(Lresult)"
   ]
  }
 ],
 "metadata": {
  "kernelspec": {
   "display_name": "Python 3",
   "language": "python",
   "name": "python3"
  },
  "language_info": {
   "codemirror_mode": {
    "name": "ipython",
    "version": 3
   },
   "file_extension": ".py",
   "mimetype": "text/x-python",
   "name": "python",
   "nbconvert_exporter": "python",
   "pygments_lexer": "ipython3",
   "version": "3.10.7"
  },
  "orig_nbformat": 4
 },
 "nbformat": 4,
 "nbformat_minor": 2
}
