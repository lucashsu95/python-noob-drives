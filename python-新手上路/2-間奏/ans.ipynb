{
 "cells": [
  {
   "cell_type": "code",
   "execution_count": null,
   "metadata": {},
   "outputs": [],
   "source": [
    "# Q1\n",
    "a = eval(input())\n",
    "b = eval(input())\n",
    "print(a * b)"
   ]
  },
  {
   "cell_type": "code",
   "execution_count": null,
   "metadata": {},
   "outputs": [],
   "source": [
    "# Q2\n",
    "num = input()\n",
    "food = ''\n",
    "if num[0] == '-':\n",
    "    food = '-'\n",
    "    num = num[1:]\n",
    "print(food + str(int(num[::-1])))"
   ]
  },
  {
   "cell_type": "code",
   "execution_count": null,
   "metadata": {},
   "outputs": [],
   "source": [
    "# Q3\n",
    "ls = input().split()\n",
    "nums = [i for i in ls if i.isdigit()]\n",
    "print(max(map(int, nums)))\n"
   ]
  },
  {
   "cell_type": "code",
   "execution_count": null,
   "metadata": {},
   "outputs": [],
   "source": [
    "# Q4\n",
    "numbers = list(map(int, input().split()))\n",
    "operation = int(input())\n",
    "if operation == 1:\n",
    "    max_number = max(numbers)\n",
    "    print(max_number)\n",
    "elif operation == 2:\n",
    "    min_number = min(numbers)\n",
    "    print(min_number)"
   ]
  },
  {
   "cell_type": "code",
   "execution_count": null,
   "metadata": {},
   "outputs": [],
   "source": [
    "# Q5\n",
    "def factorial(n):\n",
    "    if n == 0 or n == 1:\n",
    "        return 1\n",
    "    else:\n",
    "        return n * factorial(n - 1)\n",
    "\n",
    "num = int(input())\n",
    "print(factorial(num))\n"
   ]
  },
  {
   "cell_type": "code",
   "execution_count": null,
   "metadata": {},
   "outputs": [],
   "source": [
    "# Q6\n",
    "# V1 使用 counter 函數\n",
    "def V1():\n",
    "    from collections import Counter\n",
    "    n = Counter(line)\n",
    "    ans = n.most_common(1)\n",
    "    print(ans[0][0], ':', ans[0][1])\n",
    "\n",
    "# V2 不使用 counter 函数\n",
    "def V2():\n",
    "    dic = dict()\n",
    "    for i in line:\n",
    "        if i in dic.keys():  # 把.keys() 加上會比較好\n",
    "            dic[i] += 1\n",
    "        else:\n",
    "            dic[i] = 1\n",
    "\n",
    "    # 指定第二個元素來去排序大小\n",
    "    ans = sorted(dic.items(), key=lambda x: x[1], reverse=True)\n",
    "    print(ans[0][0], ':', ans[0][1])\n",
    "\n",
    "line = input().replace(' ', '')\n",
    "V1()\n",
    "# V2()"
   ]
  },
  {
   "cell_type": "code",
   "execution_count": null,
   "metadata": {},
   "outputs": [],
   "source": [
    "# Q7\n",
    "n = int(input())\n",
    "aa = bb = cc = 0\n",
    "\n",
    "for _ in range(n):\n",
    "    a, b, c = map(int, input().split())\n",
    "    total = a+b+c\n",
    "    aa += a\n",
    "    bb += b\n",
    "    cc += c\n",
    "    print(f'總分 {total},平均 {total // 3}')\n",
    "\n",
    "print(f'全班國文總分 {aa},平均 {aa // n}')\n",
    "print(f'全班英文總分 {bb},平均 {bb // n}')\n",
    "print(f'全班數學總分 {cc},平均 {cc // n}')"
   ]
  },
  {
   "cell_type": "code",
   "execution_count": null,
   "metadata": {},
   "outputs": [],
   "source": [
    "# Q8\n",
    "people = int(input())\n",
    "a = people // 12\n",
    "b = people % 12\n",
    "print(a * 50 + b * 5)"
   ]
  },
  {
   "cell_type": "code",
   "execution_count": null,
   "metadata": {},
   "outputs": [],
   "source": [
    "# Q9\n",
    "import sys\n",
    "for Lstr in sys.stdin.read().splitlines():\n",
    "    Lresult = \"F\"\n",
    "    B = Lstr.replace(\"(\", \"\").replace(\")\", \"\")\n",
    "    if len(Lstr) >= 6 and (B.isdigit() or B == \"\") and Lstr.count(\"(\")>=1 and  Lstr.count(\"(\")==Lstr.count(\")\"):\n",
    "        Lresult = \"T\"\n",
    "        N = 0\n",
    "        for i in range(0,len(Lstr)):\n",
    "            if Lstr[i] == \"(\" :\n",
    "                N+=1\n",
    "            if Lstr[i] == \")\" :\n",
    "                N-=1\n",
    "            if N<0:\n",
    "                Lresult = \"F\"\n",
    "                \n",
    "    print(Lresult)"
   ]
  },
  {
   "cell_type": "code",
   "execution_count": null,
   "metadata": {},
   "outputs": [],
   "source": [
    "# Q10\n",
    "import sys\n",
    "\n",
    "for Lstr in sys.stdin.read().splitlines():\n",
    "    Lresult = \"F\"\n",
    "    if len(Lstr) >= 2 :\n",
    "        Lresult = \"T\"\n",
    "        Lswitch = \"a\"\n",
    "        for i in range(1,len(Lstr)):\n",
    "\n",
    "            if Lswitch == \"a\":\n",
    "                if Lstr[i-1] > Lstr[i]:\n",
    "                    Lswitch = \"d\"\n",
    "            else:\n",
    "                if Lstr[i-1] < Lstr[i]:\n",
    "                    Lresult = \"F\"\n",
    "\n",
    "    print(Lresult)"
   ]
  }
 ],
 "metadata": {
  "language_info": {
   "name": "python"
  },
  "orig_nbformat": 4
 },
 "nbformat": 4,
 "nbformat_minor": 2
}
