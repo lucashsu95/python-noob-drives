{
 "cells": [
  {
   "cell_type": "code",
   "execution_count": null,
   "metadata": {},
   "outputs": [],
   "source": [
    "# 1.奇偶數分類\n",
    "numbers = list(map(int,input().split()))\n",
    "odd_numbers = [num for num in numbers if num % 2 == 1]\n",
    "even_numbers = [num for num in numbers if num % 2 == 0]\n",
    "print(\"Odd numbers:\", odd_numbers)\n",
    "print(\"Even numbers:\", even_numbers)\n"
   ]
  },
  {
   "cell_type": "code",
   "execution_count": null,
   "metadata": {},
   "outputs": [],
   "source": [
    "# 2.列表元素去重複\n",
    "numbers = input().split()\n",
    "unique_numbers = list(set(numbers))\n",
    "print(unique_numbers)\n"
   ]
  },
  {
   "cell_type": "code",
   "execution_count": null,
   "metadata": {},
   "outputs": [],
   "source": [
    "# 3.找出重複元素\n",
    "numbers = input().split()\n",
    "duplicates = [num for num in set(numbers) if numbers.count(num) > 1]\n",
    "print(duplicates)\n"
   ]
  },
  {
   "cell_type": "code",
   "execution_count": 6,
   "metadata": {},
   "outputs": [
    {
     "name": "stdout",
     "output_type": "stream",
     "text": [
      "10 20 50\n"
     ]
    }
   ],
   "source": [
    "# 4.列表切片\n",
    "numbers = input().split()\n",
    "start,end = map(int,input().split(':'))\n",
    "sliced_list = numbers[start:end]\n",
    "print(' '.join(sliced_list))"
   ]
  },
  {
   "cell_type": "code",
   "execution_count": null,
   "metadata": {},
   "outputs": [],
   "source": [
    "# 5.列表排序\n",
    "numbers = list(map(int, input().split()))\n",
    "ascending_sorted = sorted(numbers)\n",
    "descending_sorted = sorted(numbers, reverse=True)\n",
    "print(\"Ascending:\", ascending_sorted)\n",
    "print(\"Descending:\", descending_sorted)\n"
   ]
  },
  {
   "cell_type": "code",
   "execution_count": 5,
   "metadata": {},
   "outputs": [
    {
     "name": "stdout",
     "output_type": "stream",
     "text": [
      "32\n"
     ]
    }
   ],
   "source": [
    "# 6.顯示最大的3個數字\n",
    "# 建立一個空串列來存放數字\n",
    "numbers = []\n",
    "\n",
    "# 請求使用者輸入十個數字並存放在串列中\n",
    "for _ in range(10):\n",
    "    num = int(input())\n",
    "    numbers.append(num)\n",
    "\n",
    "# 將串列中的數字進行排序（由大到小）\n",
    "numbers.sort(reverse=True)\n",
    "\n",
    "# 顯示最大的3個數字\n",
    "for i in range(3):\n",
    "    print(numbers[i], end=\" \")\n"
   ]
  },
  {
   "cell_type": "code",
   "execution_count": null,
   "metadata": {},
   "outputs": [],
   "source": [
    "# 7.奇偶位置交換\n",
    "def V1():\n",
    "    swapped_numbers = [numbers[i+1] if i % 2 == 0 else numbers[i-1] for i in range(len(numbers))]\n",
    "    print(swapped_numbers)\n",
    "def V2():\n",
    "    swapped_numbers = []\n",
    "    for i in range(len(numbers)):\n",
    "        if i % 2 == 0:\n",
    "            swapped_numbers.append(numbers[i+1])\n",
    "        else:\n",
    "            swapped_numbers.append(numbers[i-1])\n",
    "    print(swapped_numbers)\n",
    "\n",
    "numbers = list(map(int,input().split()))\n",
    "V1()\n"
   ]
  },
  {
   "cell_type": "code",
   "execution_count": null,
   "metadata": {},
   "outputs": [],
   "source": [
    "# 8. 矩陣索引偶數相加\n",
    "\n",
    "# 建立一個空的串列來存放輸入的數字\n",
    "numbers = []\n",
    "\n",
    "# 讀取使用者輸入的 12 個正整數\n",
    "for _ in range(12):\n",
    "    num = int(input())\n",
    "    numbers.append(num)\n",
    "\n",
    "# 顯示輸入的數字\n",
    "for i in range(0, 12, 3):\n",
    "    print(numbers[i], numbers[i+1], numbers[i+2])\n",
    "\n",
    "# 計算並輸出索引為偶數的數字相加的總和\n",
    "even_sum = sum(numbers[::2])\n",
    "print(even_sum)"
   ]
  },
  {
   "cell_type": "code",
   "execution_count": 1,
   "metadata": {},
   "outputs": [
    {
     "name": "stdout",
     "output_type": "stream",
     "text": [
      "Matrix 1:\n",
      "** 3 5 **\n",
      "** 7 5 **\n",
      "Matrix 2:\n",
      "** 6 9 **\n",
      "** 8 3 **\n",
      "Sum of 2 matrices:\n",
      "** 9 14 **\n",
      "** 15 8 **\n"
     ]
    }
   ],
   "source": [
    "# 9.二維矩陣相加\n",
    "def print_matrix(matrix):\n",
    "    for row in matrix:\n",
    "        print('** ' + \" \".join(map(str, row)) + ' **')\n",
    "\n",
    "def add_matrices(matrix1, matrix2):\n",
    "    result_matrix = []\n",
    "    for i in range(len(matrix1)):\n",
    "        row = [matrix1[i][j] + matrix2[i][j] for j in range(len(matrix1[i]))]\n",
    "        result_matrix.append(row)\n",
    "    return result_matrix\n",
    "\n",
    "\n",
    "ary = list(map(int,input().split()))\n",
    "matrix1 = [ary[0:2],ary[2:4]]\n",
    "\n",
    "ary2 = list(map(int,input().split()))\n",
    "matrix2 = [ary2[0:2],ary2[2:4]]\n",
    "\n",
    "# 輸出矩陣 1 和矩陣 2 的內容\n",
    "print(\"Matrix 1:\")\n",
    "print_matrix(matrix1)\n",
    "\n",
    "print(\"Matrix 2:\")\n",
    "print_matrix(matrix2)\n",
    "\n",
    "# 計算並輸出兩個矩陣相加的結果\n",
    "sum_matrix = add_matrices(matrix1, matrix2)\n",
    "print(\"Sum of 2 matrices:\")\n",
    "print_matrix(sum_matrix)\n"
   ]
  },
  {
   "cell_type": "code",
   "execution_count": 13,
   "metadata": {},
   "outputs": [
    {
     "name": "stdout",
     "output_type": "stream",
     "text": [
      "  0  1  2  3  4  5  6  7  8  9\n",
      " -1  0  1  2  3  4  5  6  7  8\n",
      " -2 -1  0  1  2  3  4  5  6  7\n",
      " -3 -2 -1  0  1  2  3  4  5  6\n",
      " -4 -3 -2 -1  0  1  2  3  4  5\n"
     ]
    }
   ],
   "source": [
    "# 10.二維矩陣的索引\n",
    "def create_2d_list(rows, cols):\n",
    "    lst = []\n",
    "    for i in range(rows):\n",
    "        row = []\n",
    "        for j in range(cols):\n",
    "            value = j - i\n",
    "            row.append(value)\n",
    "        lst.append(row)\n",
    "    return lst\n",
    "\n",
    "# 請求使用者輸入 rows 和 cols\n",
    "rows = int(input())\n",
    "cols = int(input())\n",
    "\n",
    "# 建立二維串列並填入元素值\n",
    "lst = create_2d_list(rows, cols)\n",
    "\n",
    "# 輸出二維串列的內容\n",
    "for row in lst:\n",
    "    for i in row:\n",
    "        print(f\"{i:>3}\",end='')\n",
    "    print()\n"
   ]
  }
 ],
 "metadata": {
  "kernelspec": {
   "display_name": "Python 3",
   "language": "python",
   "name": "python3"
  },
  "language_info": {
   "codemirror_mode": {
    "name": "ipython",
    "version": 3
   },
   "file_extension": ".py",
   "mimetype": "text/x-python",
   "name": "python",
   "nbconvert_exporter": "python",
   "pygments_lexer": "ipython3",
   "version": "3.11.0"
  },
  "orig_nbformat": 4
 },
 "nbformat": 4,
 "nbformat_minor": 2
}
