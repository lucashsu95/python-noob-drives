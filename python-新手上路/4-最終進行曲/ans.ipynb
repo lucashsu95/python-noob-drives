{
 "cells": [
  {
   "cell_type": "code",
   "execution_count": null,
   "metadata": {},
   "outputs": [],
   "source": [
    "# 暖身(最近有點冷) V1\n",
    "import sys\n",
    "for Lstr in sys.stdin.read().splitlines():\n",
    "    Lresult = \"F\"\n",
    "    B = Lstr.replace(\"+\", \"\").replace(\"-\", \"\").replace(\"*\", \"\").replace(\"/\", \"\")\n",
    "    if len(Lstr) >= 3 and (B.isdigit()) and Lstr[0].isdigit() and Lstr[-1].isdigit() :\n",
    "        Lresult = \"T\"\n",
    "        for i in range(1,len(Lstr)):\n",
    "            Ls2 =\"+-*/\"\n",
    "            M = Ls2.find(Lstr[i-1])\n",
    "            N = Ls2.find(Lstr[i])\n",
    "            if (M >= 0 and N>=0):\n",
    "                Lresult = \"F\"\n",
    "    print(Lresult)"
   ]
  },
  {
   "cell_type": "code",
   "execution_count": null,
   "metadata": {},
   "outputs": [],
   "source": [
    "# 暖身(最近有點冷) V2\n",
    "import sys\n",
    "for line in sys.stdin.read().splitlines():\n",
    "    flag = 1\n",
    "    ans = 'F'\n",
    "    if len(line) >= 3 and line[0].isdigit() and line[-1].isdigit():\n",
    "        ans = 'T'\n",
    "        for i in line:\n",
    "            if i.isdigit():\n",
    "                flag = 1\n",
    "            elif flag == 1:\n",
    "                flag = 0\n",
    "            else:\n",
    "                ans = 'F'\n",
    "                break\n",
    "    print(ans)"
   ]
  },
  {
   "cell_type": "code",
   "execution_count": null,
   "metadata": {},
   "outputs": [],
   "source": [
    "# 排序法\n",
    "nums = list(map(int,input().split()))\n",
    "\n",
    "for i in range(len(nums)):\n",
    "    for j in range(i,len(nums)):\n",
    "        if nums[i] > nums[j]:\n",
    "            nums[i],nums[j] = nums[j],nums[i]\n",
    "print(nums)"
   ]
  },
  {
   "cell_type": "code",
   "execution_count": null,
   "metadata": {},
   "outputs": [],
   "source": [
    "# 密碼規則\n",
    "n = int(input())\n",
    "level_table = ['Week', 'Normal', 'Nice', 'Good', 'Strong']\n",
    "\n",
    "for _ in range(n):\n",
    "    level = 0\n",
    "    password = input()\n",
    "\n",
    "    # 规则a：检查密码长度是否至少八个字符\n",
    "    if len(password) >= 8:\n",
    "        level += 1\n",
    "\n",
    "    # 规则b：检查密码是否包含英文字母和数字\n",
    "    if any(char.isalpha() for char in password) and any(char.isdigit() for char in password):\n",
    "        level += 1\n",
    "\n",
    "    # 规则c：检查密码是否有一个大写英文字母\n",
    "    if any(char.isupper() for char in password):\n",
    "        level += 1\n",
    "\n",
    "    # 规则d：检查密码是否有一个特殊符号\n",
    "    special_characters = \"~!@#$%^&*()_+-*/<>,.[]\\\\/\"\n",
    "    if any(char in special_characters for char in password):\n",
    "        level += 1\n",
    "\n",
    "    print(level_table[level])\n"
   ]
  },
  {
   "cell_type": "code",
   "execution_count": 1,
   "metadata": {},
   "outputs": [],
   "source": [
    "# 賣鴨子\n",
    "\n",
    "n,num = map(int,input().split())\n",
    "\n",
    "for i in range(n):\n",
    "    num = (num + 1) * 2\n",
    "    sell = num // 2 + 1\n",
    "    \n",
    "    print(f'經過第{n - i}個村莊 賣 {sell} 隻,剩 {num - sell} 隻鴨')\n",
    "print(f'出發時共 {num} 隻')"
   ]
  },
  {
   "cell_type": "code",
   "execution_count": null,
   "metadata": {},
   "outputs": [],
   "source": [
    "# 巴斯卡三角形\n",
    "def V1():\n",
    "    triangle = [[1]]\n",
    "    for i in range(1, size):\n",
    "        row = [1]\n",
    "        for j in range(1, i):\n",
    "            row.append(triangle[i - 1][j - 1] + triangle[i - 1][j])\n",
    "        row.append(1)\n",
    "        triangle.append(row)\n",
    "    for row in triangle:\n",
    "        print(row)\n",
    "\n",
    "\n",
    "def V2():\n",
    "    dp = [[0] * (i + 1) for i in range(size)]  # 先把表建好\n",
    "    dp[0][0] = 1  # 第一格一定是1\n",
    "    for i in range(1, size):\n",
    "        for j in range(i+1):\n",
    "            if j == 0 or j == i:  # 第一個和最後一個都會是1\n",
    "                dp[i][j] = 1\n",
    "            else:\n",
    "                dp[i][j] = dp[i-1][j-1] + dp[i-1][j]\n",
    "    for i in dp:\n",
    "        print(i)\n",
    "\n",
    "\n",
    "size = int(input())\n"
   ]
  }
 ],
 "metadata": {
  "kernelspec": {
   "display_name": "Python 3",
   "language": "python",
   "name": "python3"
  },
  "language_info": {
   "codemirror_mode": {
    "name": "ipython",
    "version": 3
   },
   "file_extension": ".py",
   "mimetype": "text/x-python",
   "name": "python",
   "nbconvert_exporter": "python",
   "pygments_lexer": "ipython3",
   "version": "3.11.0"
  },
  "orig_nbformat": 4
 },
 "nbformat": 4,
 "nbformat_minor": 2
}
